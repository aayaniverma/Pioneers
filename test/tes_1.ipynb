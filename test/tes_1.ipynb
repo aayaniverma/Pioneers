{
 "cells": [
  {
   "cell_type": "code",
   "execution_count": 1,
   "metadata": {},
   "outputs": [
    {
     "data": {
      "text/plain": [
       "True"
      ]
     },
     "execution_count": 1,
     "metadata": {},
     "output_type": "execute_result"
    }
   ],
   "source": [
    "import nltk\n",
    "import ssl\n",
    "\n",
    "# Disable SSL certificate verification\n",
    "ssl._create_default_https_context = ssl._create_unverified_context\n",
    "\n",
    "# Download NLTK's WordNet\n",
    "nltk.download('wordnet', quiet=True)\n"
   ]
  },
  {
   "cell_type": "code",
   "execution_count": 2,
   "metadata": {},
   "outputs": [
    {
     "name": "stderr",
     "output_type": "stream",
     "text": [
      "/Library/Frameworks/Python.framework/Versions/3.11/lib/python3.11/site-packages/tqdm/auto.py:21: TqdmWarning: IProgress not found. Please update jupyter and ipywidgets. See https://ipywidgets.readthedocs.io/en/stable/user_install.html\n",
      "  from .autonotebook import tqdm as notebook_tqdm\n",
      "[nltk_data] Downloading package wordnet to /Users/diya/nltk_data...\n",
      "[nltk_data]   Package wordnet is already up-to-date!\n"
     ]
    },
    {
     "name": "stdout",
     "output_type": "stream",
     "text": [
      "Welcome to Car Troubleshooting Chatbot. Enter 'exit' to quit.\n",
      "\n",
      "Identified Problem: Engine Issues\n",
      "Suggested Solutions:\n",
      "1. Regular maintenance\n",
      "2. Timely oil changes\n",
      "3. Using high-quality fuel\n",
      "4. Addressing warning lights immediately\n",
      "5. Checking and replacing spark plugs\n"
     ]
    }
   ],
   "source": [
    "import pandas as pd\n",
    "from transformers import GPT2LMHeadModel, GPT2Tokenizer\n",
    "import torch\n",
    "import spacy\n",
    "from nltk.corpus import wordnet\n",
    "import nltk\n",
    "\n",
    "# Download NLTK's WordNet if not already downloaded\n",
    "nltk.download('wordnet')\n",
    "\n",
    "# Load Spacy model\n",
    "nlp = spacy.load('en_core_web_sm')\n",
    "\n",
    "# Load the dataset (for tokenization purposes)\n",
    "data = pd.read_csv('/Users/diya/tata/Tata-InnoVent/test/output.csv')\n",
    "\n",
    "# Initialize tokenizer and model\n",
    "model_name = 'gpt2'\n",
    "tokenizer = GPT2Tokenizer.from_pretrained(model_name)\n",
    "model = GPT2LMHeadModel.from_pretrained(model_name)\n",
    "\n",
    "# Load the trained checkpoint\n",
    "checkpoint_path = 'model_checkpoint_epoch_2.pt'\n",
    "model.load_state_dict(torch.load(checkpoint_path))\n",
    "model.eval()\n",
    "\n",
    "# Function to generate response based on input symptoms\n",
    "def generate_solution(input_text):\n",
    "    input_ids = tokenizer.encode(input_text, return_tensors='pt', max_length=512, truncation=True)\n",
    "    attention_mask = torch.ones_like(input_ids)\n",
    "    \n",
    "    output = model.generate(input_ids=input_ids, attention_mask=attention_mask, max_length=100, num_return_sequences=1)\n",
    "    generated_text = tokenizer.decode(output[0], skip_special_tokens=True)\n",
    "    return generated_text\n",
    "\n",
    "# Function to get synonyms\n",
    "def get_synonyms(word):\n",
    "    synonyms = set()\n",
    "    for syn in wordnet.synsets(word):\n",
    "        for lemma in syn.lemmas():\n",
    "            synonyms.add(lemma.name().replace('_', ' '))\n",
    "    return synonyms\n",
    "\n",
    "# Function to find problem and return solutions\n",
    "def find_problem_and_solution(input_text):\n",
    "    input_text_lower = input_text.lower().strip()\n",
    "    \n",
    "    # Tokenize and lemmatize input_text using Spacy\n",
    "    doc = nlp(input_text_lower)\n",
    "    input_tokens = [token.lemma_ for token in doc]\n",
    "    \n",
    "    for index, row in data.iterrows():\n",
    "        symptoms_list = eval(row['Symptoms'])\n",
    "        for symptom in symptoms_list:\n",
    "            symptom_lower = symptom.lower()\n",
    "            symptom_doc = nlp(symptom_lower)\n",
    "            symptom_tokens = [token.lemma_ for token in symptom_doc]\n",
    "            \n",
    "            # Check for matches between input tokens and symptom tokens\n",
    "            if any(token in input_tokens or token in get_synonyms(token) for token in symptom_tokens):\n",
    "                return row['Problem'], row['Solutions']\n",
    "    \n",
    "    return None, None\n",
    "\n",
    "# Interactive user input loop\n",
    "def main():\n",
    "    print(\"Welcome to Car Troubleshooting Chatbot. Enter 'exit' to quit.\")\n",
    "    \n",
    "    while True:\n",
    "        symptoms = input(\"\\nEnter symptoms (e.g., 'Engine Issues: Poor performance, knocking noises'):\\n> \")\n",
    "        \n",
    "        if symptoms.lower() == 'exit':\n",
    "            break\n",
    "        \n",
    "        problem, solutions = find_problem_and_solution(symptoms)\n",
    "        \n",
    "        if problem:\n",
    "            print(f\"\\nIdentified Problem: {problem}\")\n",
    "            print(f\"Suggested Solutions:\")\n",
    "            for i, solution in enumerate(eval(solutions)):\n",
    "                print(f\"{i+1}. {solution}\")\n",
    "        else:\n",
    "            print(\"\\nNo specific problem identified. Please provide more details or try again.\")\n",
    "\n",
    "if __name__ == \"__main__\":\n",
    "    main()\n"
   ]
  }
 ],
 "metadata": {
  "kernelspec": {
   "display_name": "Python 3",
   "language": "python",
   "name": "python3"
  },
  "language_info": {
   "codemirror_mode": {
    "name": "ipython",
    "version": 3
   },
   "file_extension": ".py",
   "mimetype": "text/x-python",
   "name": "python",
   "nbconvert_exporter": "python",
   "pygments_lexer": "ipython3",
   "version": "3.11.4"
  }
 },
 "nbformat": 4,
 "nbformat_minor": 2
}
